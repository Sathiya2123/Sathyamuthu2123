{
  "nbformat": 4,
  "nbformat_minor": 0,
  "metadata": {
    "colab": {
      "provenance": [],
      "mount_file_id": "1BfIyMppP5bJ7kBbmfnS5skotIjHN4YA0",
      "authorship_tag": "ABX9TyPUEpkcADBTRxOTaDafsLbf",
      "include_colab_link": true
    },
    "kernelspec": {
      "name": "python3",
      "display_name": "Python 3"
    },
    "language_info": {
      "name": "python"
    }
  },
  "cells": [
    {
      "cell_type": "markdown",
      "metadata": {
        "id": "view-in-github",
        "colab_type": "text"
      },
      "source": [
        "<a href=\"https://colab.research.google.com/github/Sathiya2123/Sathyamuthu2123/blob/main/Copy_of_untitled0.ipynb\" target=\"_parent\"><img src=\"https://colab.research.google.com/assets/colab-badge.svg\" alt=\"Open In Colab\"/></a>"
      ]
    },
    {
      "cell_type": "code",
      "source": [
        "# Sample transactions (amount, location, is_online, time_hour)\n",
        "transactions = [\n",
        "    (120, \"New York\", True, 2),     # Normal\n",
        "    (5000, \"Nigeria\", True, 3),     # Suspicious\n",
        "    (50, \"New York\", False, 10),    # Normal\n",
        "    (3000, \"Russia\", True, 1),      # Suspicious\n",
        "]\n",
        "\n",
        "def is_fraud(amount, location, is_online, time_hour):\n",
        "    # Simple rules for fraud detection\n",
        "    if amount > 1000 and is_online:\n",
        "        if location not in [\"New York\", \"California\"]:\n",
        "            if time_hour < 6 or time_hour > 22:\n",
        "                return True\n",
        "    return False\n",
        "\n",
        "# Check each transaction\n",
        "for i, txn in enumerate(transactions):\n",
        "    amount, location, is_online, time_hour = txn\n",
        "    fraud = is_fraud(amount, location, is_online, time_hour)\n",
        "    print(f\"Transaction {i+1}: {'FRAUD' if fraud else 'Legit'}\")"
      ],
      "metadata": {
        "colab": {
          "base_uri": "https://localhost:8080/"
        },
        "id": "Rmrm_YZaueLX",
        "outputId": "62b344c6-6d88-4e4d-aea2-3bf7264db2f5"
      },
      "execution_count": 1,
      "outputs": [
        {
          "output_type": "stream",
          "name": "stdout",
          "text": [
            "Transaction 1: Legit\n",
            "Transaction 2: FRAUD\n",
            "Transaction 3: Legit\n",
            "Transaction 4: FRAUD\n"
          ]
        }
      ]
    },
    {
      "cell_type": "code",
      "source": [],
      "metadata": {
        "id": "4ism4DEIyj2R"
      },
      "execution_count": null,
      "outputs": []
    }
  ]
}