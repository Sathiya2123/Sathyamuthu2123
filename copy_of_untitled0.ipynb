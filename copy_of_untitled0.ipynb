{
  "nbformat": 4,
  "nbformat_minor": 0,
  "metadata": {
    "colab": {
      "provenance": [],
      "mount_file_id": "1BfIyMppP5bJ7kBbmfnS5skotIjHN4YA0",
      "authorship_tag": "ABX9TyMSaVnN0N+ink5PIHE/2bE4",
      "include_colab_link": true
    },
    "kernelspec": {
      "name": "python3",
      "display_name": "Python 3"
    },
    "language_info": {
      "name": "python"
    }
  },
  "cells": [
    {
      "cell_type": "markdown",
      "metadata": {
        "id": "view-in-github",
        "colab_type": "text"
      },
      "source": [
        "<a href=\"https://colab.research.google.com/github/Sathiya2123/Sathyamuthu2123/blob/main/copy_of_untitled0.ipynb\" target=\"_parent\"><img src=\"https://colab.research.google.com/assets/colab-badge.svg\" alt=\"Open In Colab\"/></a>"
      ]
    },
    {
      "cell_type": "code",
      "source": [
        "# Sample transactions (amount, location, is_online, time_hour)\n",
        "transactions = [\n",
        "    (120, \"New York\", True, 2),     # Normal\n",
        "    (5000, \"Nigeria\", True, 3),     # Suspicious\n",
        "    (50, \"New York\", False, 10),    # Normal\n",
        "    (3000, \"Russia\", True, 1),      # Suspicious\n",
        "]\n",
        "\n",
        "def is_fraud(amount, location, is_online, time_hour):\n",
        "    # Simple rules for fraud detection\n",
        "    if amount > 1000 and is_online:\n",
        "        if location not in [\"New York\", \"California\"]:\n",
        "            if time_hour < 6 or time_hour > 22:\n",
        "                return True\n",
        "    return False\n",
        "\n",
        "# Check each transaction\n",
        "for i, txn in enumerate(transactions):\n",
        "    amount, location, is_online, time_hour = txn\n",
        "    fraud = is_fraud(amount, location, is_online, time_hour)\n",
        "    print(f\"Transaction {i+1}: {'FRAUD' if fraud else 'Legit'}\")"
      ],
      "metadata": {
        "colab": {
          "base_uri": "https://localhost:8080/"
        },
        "id": "Rmrm_YZaueLX",
        "outputId": "62b344c6-6d88-4e4d-aea2-3bf7264db2f5"
      },
      "execution_count": null,
      "outputs": [
        {
          "output_type": "stream",
          "name": "stdout",
          "text": [
            "Transaction 1: Legit\n",
            "Transaction 2: FRAUD\n",
            "Transaction 3: Legit\n",
            "Transaction 4: FRAUD\n"
          ]
        }
      ]
    },
    {
      "cell_type": "code",
      "source": [
        "for i in range(1, 6):\n",
        "    print(f\"The square of {i} is {i ** 2}\")"
      ],
      "metadata": {
        "colab": {
          "base_uri": "https://localhost:8080/"
        },
        "id": "70swa8m38-Va",
        "outputId": "35045eb9-a622-4c5a-9005-6aaf555af5f8"
      },
      "execution_count": null,
      "outputs": [
        {
          "output_type": "stream",
          "name": "stdout",
          "text": [
            "The square of 1 is 1\n",
            "The square of 2 is 4\n",
            "The square of 3 is 9\n",
            "The square of 4 is 16\n",
            "The square of 5 is 25\n"
          ]
        }
      ]
    },
    {
      "cell_type": "code",
      "source": [
        "# Simple Python program\n",
        "\n",
        "# Print a message\n",
        "print(\"Hello, World!\")\n",
        "\n",
        "# Add two numbers\n",
        "a = 5\n",
        "b = 3\n",
        "sum = a + b\n",
        "\n",
        "# Print the result\n",
        "print(\"The sum of\", a, \"and\", b, \"is\", sum)"
      ],
      "metadata": {
        "id": "4ism4DEIyj2R",
        "colab": {
          "base_uri": "https://localhost:8080/"
        },
        "outputId": "41b35d45-350b-49c8-e800-781a807ffcbc"
      },
      "execution_count": null,
      "outputs": [
        {
          "output_type": "stream",
          "name": "stdout",
          "text": [
            "Hello, World!\n",
            "The sum of 5 and 3 is 8\n"
          ]
        }
      ]
    }
  ]
}